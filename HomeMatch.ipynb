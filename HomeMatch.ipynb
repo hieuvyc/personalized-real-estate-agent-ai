{
 "cells": [
  {
   "cell_type": "markdown",
   "id": "a108af04",
   "metadata": {},
   "source": [
    "Project Introduction\n",
    "Imagine you're a talented developer at \"Future Homes Realty\", a forward-thinking real estate company. In an industry where personalization is key to customer satisfaction, your company wants to revolutionize how clients interact with real estate listings. The goal is to create a personalized experience for each buyer, making the property search process more engaging and tailored to individual preferences."
   ]
  },
  {
   "cell_type": "code",
   "execution_count": null,
   "id": "33120386",
   "metadata": {},
   "outputs": [],
   "source": []
  },
  {
   "cell_type": "code",
   "execution_count": 1,
   "id": "bda0d506",
   "metadata": {},
   "outputs": [
    {
     "name": "stdout",
     "output_type": "stream",
     "text": [
      "Defaulting to user installation because normal site-packages is not writeable\n",
      "Requirement already satisfied: pandas in /home/student/.local/lib/python3.10/site-packages (2.2.3)\n",
      "Requirement already satisfied: tzdata>=2022.7 in /home/student/.local/lib/python3.10/site-packages (from pandas) (2024.2)\n",
      "Requirement already satisfied: pytz>=2020.1 in /opt/conda/lib/python3.10/site-packages (from pandas) (2022.7)\n",
      "Requirement already satisfied: numpy>=1.22.4 in /opt/conda/lib/python3.10/site-packages (from pandas) (1.24.3)\n",
      "Requirement already satisfied: python-dateutil>=2.8.2 in /opt/conda/lib/python3.10/site-packages (from pandas) (2.9.0.post0)\n",
      "Requirement already satisfied: six>=1.5 in /opt/conda/lib/python3.10/site-packages (from python-dateutil>=2.8.2->pandas) (1.16.0)\n"
     ]
    }
   ],
   "source": [
    "!pip install pandas"
   ]
  },
  {
   "cell_type": "markdown",
   "id": "35e3d030",
   "metadata": {},
   "source": [
    "Section: Synthetic Data Generation\n",
    "1.Generating Real Estate Listings with an LLM: The submission must demonstrate using a Large Language Model (LLM) to generate at least 10 diverse and realistic real estate listings containing facts about the real estate"
   ]
  },
  {
   "cell_type": "code",
   "execution_count": 19,
   "id": "6554fd4c",
   "metadata": {},
   "outputs": [],
   "source": [
    "import os\n",
    "import pandas as pd\n",
    "import re\n",
    "from dataclasses import dataclass\n",
    "from langchain.llms import OpenAI\n",
    "from langchain.output_parsers import PydanticOutputParser\n",
    "from langchain.prompts import PromptTemplate\n",
    "from pydantic import BaseModel, Field\n",
    "\n",
    "os.environ[\"OPENAI_API_KEY\"] = \"voc-200544551126677187877867151067946181.86931116\"\n",
    "os.environ[\"OPENAI_API_BASE\"] = \"https://openai.vocareum.com/v1\"\n",
    "\n",
    "from langchain.llms import OpenAI\n",
    "from langchain.prompts import PromptTemplate\n",
    "from langchain.prompts.few_shot import FewShotPromptTemplate\n",
    "\n",
    "model_name = \"gpt-3.5-turbo\"\n",
    "temperature = 0.7\n",
    "llm = OpenAI(model_name=model_name, temperature=temperature, max_tokens=4000)"
   ]
  },
  {
   "cell_type": "code",
   "execution_count": 26,
   "id": "20faa3c0",
   "metadata": {},
   "outputs": [],
   "source": [
    "# Define Pydantic model for the real estate listing\n",
    "class RealEstateListing(BaseModel):\n",
    "    neighborhood: str = Field(..., description=\"Neighborhood where the house is located\")\n",
    "    price: str = Field(..., description=\"Listing price of the house\")\n",
    "    bedrooms: int = Field(..., description=\"Number of bedrooms\")\n",
    "    bathrooms: int = Field(..., description=\"Number of bathrooms\")\n",
    "    house_size: str = Field(..., description=\"Size of the house in square feet\")\n",
    "    description: str = Field(..., description=\"Detailed description of the house\")\n",
    "    neighborhood_description: str = Field(..., description=\"Description of the neighborhood\")\n",
    "\n",
    "# Initialize PydanticOutputParser\n",
    "output_parser = PydanticOutputParser(pydantic_object=RealEstateListing)\n",
    "\n",
    "# Define the prompt template for generating listings\n",
    "prompt_template = PromptTemplate(\n",
    "    input_variables=[],\n",
    "    template=(\"\"\"\n",
    "    Generate a detailed real estate listing with the following details:\n",
    "    - Neighborhood\n",
    "    - Price\n",
    "    - Bedrooms\n",
    "    - Bathrooms\n",
    "    - House Size\n",
    "    - Description\n",
    "    - Neighborhood Description\n",
    "    \n",
    "    Each listing should include realistic information that would appear in a real estate ad.\n",
    "    \"\"\")\n",
    ")\n",
    "\n",
    "# Extract data using regular expressions\n",
    "def parse_listing(text):\n",
    "    try:\n",
    "        return RealEstateListing(\n",
    "            neighborhood=re.search(r\"Neighborhood:\\s*(.+)\", text).group(1),\n",
    "            price=re.search(r\"Price:\\s*(.+)\", text).group(1),\n",
    "            bedrooms=int(re.search(r\"Bedrooms:\\s*(\\d+)\", text).group(1)),\n",
    "            bathrooms=int(re.search(r\"Bathrooms:\\s*(\\d+)\", text).group(1)),\n",
    "            house_size=re.search(r\"House Size:\\s*(.+)\", text).group(1),\n",
    "            description=re.search(r\"Description:\\s*(.+?)(?=\\nNeighborhood Description:)\", text, re.DOTALL).group(1).strip(),\n",
    "            neighborhood_description=re.search(r\"Neighborhood Description:\\s*(.+)\", text, re.DOTALL).group(1).strip()\n",
    "        )\n",
    "    except AttributeError:\n",
    "        print(f\"Failed to parse listing:\\n{text}\")\n",
    "        return None\n",
    "\n",
    "# Function to generate listings\n",
    "def generate_real_estate_listings(n=10):\n",
    "    listings = []\n",
    "    for _ in range(n):\n",
    "        prompt = prompt_template.format()\n",
    "        response = llm(prompt)\n",
    "        parsed_listing = parse_listing(response)\n",
    "        if parsed_listing:\n",
    "            listings.append(parsed_listing.dict())\n",
    "    return listings\n",
    "\n",
    "# Generate listings and save them to a CSV file\n",
    "def save_listings_to_csv(filename=\"listings.csv\"):\n",
    "    listings = generate_real_estate_listings(n=10)\n",
    "    df = pd.DataFrame(listings)\n",
    "    df.to_csv(filename, index=False)\n",
    "    print(f\"Real estate listings saved to {filename}\")\n"
   ]
  },
  {
   "cell_type": "code",
   "execution_count": 27,
   "id": "c92de512",
   "metadata": {},
   "outputs": [
    {
     "name": "stdout",
     "output_type": "stream",
     "text": [
      "Real estate listings saved to listings.csv\n"
     ]
    }
   ],
   "source": [
    "# Run the function to save listings\n",
    "save_listings_to_csv()"
   ]
  },
  {
   "cell_type": "markdown",
   "id": "e01fa6dd",
   "metadata": {},
   "source": [
    "Section: Semantic Search\n",
    "1.Creating a Vector Database and Storing Listings: The project must demonstrate the creation of a vector database and successfully storing real estate listing embeddings within it. The database should effectively store and organize the embeddings generated from the LLM-created listings.\n",
    "2.Semantic Search of Listings Based on Buyer Preferences: The application must include a functionality where listings are semantically searched based on given buyer preferences. The search should return listings that closely match the input preferences."
   ]
  },
  {
   "cell_type": "code",
   "execution_count": 30,
   "id": "b56a5141",
   "metadata": {},
   "outputs": [],
   "source": [
    "import os\n",
    "import pandas as pd\n",
    "from langchain.embeddings import OpenAIEmbeddings\n",
    "from langchain.vectorstores import Chroma\n",
    "from langchain.document_loaders import CSVLoader\n",
    "from langchain.llms import OpenAI"
   ]
  },
  {
   "cell_type": "code",
   "execution_count": 31,
   "id": "3d1cbd92",
   "metadata": {},
   "outputs": [
    {
     "name": "stdout",
     "output_type": "stream",
     "text": [
      "Real estate listings have been stored in the vector database.\n"
     ]
    }
   ],
   "source": [
    "# Step 1: Configure the OpenAI API and embeddings model\n",
    "os.environ[\"OPENAI_API_KEY\"] = \"voc-200544551126677187877867151067946181.86931116\"\n",
    "model_name = \"gpt-3.5-turbo\"\n",
    "embeddings = OpenAIEmbeddings()\n",
    "\n",
    "# Load listings from CSV\n",
    "loader = CSVLoader(file_path='./listings.csv')\n",
    "documents = loader.load()\n",
    "\n",
    "# Step 2: Set up ChromaDB (or another vector database)\n",
    "chroma_db_path = \"./chroma_db\"  # Path to store ChromaDB data\n",
    "vector_db = Chroma(collection_name=\"real_estate_listings\", embedding_function=embeddings, persist_directory=chroma_db_path)\n",
    "\n",
    "\n",
    "# Step 3: Convert each listing to embeddings and store in ChromaDB\n",
    "# Filter out None values from metadata\n",
    "def filter_metadata(metadata):\n",
    "    return {key: value for key, value in metadata.items() if value is not None}\n",
    "\n",
    "for document in documents:\n",
    "    # Generate embedding for the document content (e.g., 'Description' field)\n",
    "    embedding = embeddings.embed_query(document.page_content)\n",
    "    \n",
    "    # Store in vector database with metadata (all other fields of the listing)\n",
    "    metadata = {\n",
    "        \"neighborhood\": document.metadata.get(\"neighborhood\"),\n",
    "        \"price\": document.metadata.get(\"price\"),\n",
    "        \"bedrooms\": document.metadata.get(\"bedrooms\"),\n",
    "        \"bathrooms\": document.metadata.get(\"bathrooms\"),\n",
    "        \"house_size\": document.metadata.get(\"house_size\"),\n",
    "        \"description\": document.metadata.get(\"description\"),\n",
    "        \"neighborhood_description\": document.metadata.get(\"neighborhood_description\")\n",
    "    }\n",
    "    \n",
    "    filtered_metadata = filter_metadata(metadata)\n",
    "    \n",
    "    vector_db.add_texts([document.page_content], embeddings=[embedding], metadatas=[filtered_metadata])\n",
    "\n",
    "# Save vector database to disk for persistence\n",
    "vector_db.persist()\n",
    "print(\"Real estate listings have been stored in the vector database.\")"
   ]
  },
  {
   "cell_type": "markdown",
   "id": "48cc4855",
   "metadata": {},
   "source": []
  },
  {
   "cell_type": "markdown",
   "id": "cab5eede",
   "metadata": {},
   "source": [
    "Sale's questions:\n",
    "What are 3 most important things for you in choosing this property?\n",
    "How urban do you want your neighborhood to be?\n",
    "User Answer:\n",
    "A quiet neighborhood, good local schools, and convenient shopping options.\n",
    "A balance between suburban tranquility and access to urban amenities like restaurants and theaters."
   ]
  },
  {
   "cell_type": "code",
   "execution_count": 46,
   "id": "9ff6be24",
   "metadata": {},
   "outputs": [
    {
     "name": "stdout",
     "output_type": "stream",
     "text": [
      "Buyer Preferences for Search:\n",
      " A quiet neighborhood, good local schools, and convenient shopping options. A balance between suburban tranquility and access to urban amenities like restaurants and theaters.\n"
     ]
    }
   ],
   "source": [
    "# Define the questions and collect answers\n",
    "questions = [\n",
    "    \"What are 3 most important things for you in choosing this property?\",\n",
    "    \"How urban do you want your neighborhood to be?\",\n",
    "]\n",
    "\n",
    "# Example answers (these would come from the user in a real application)\n",
    "answers = [\n",
    "    \"A quiet neighborhood, good local schools, and convenient shopping options.\",\n",
    "    \"A balance between suburban tranquility and access to urban amenities like restaurants and theaters.\",\n",
    "]\n",
    "\n",
    "# Combine answers into a preference text to use for semantic search\n",
    "buyer_preferences_text = \" \".join(answers)\n",
    "print(\"Buyer Preferences for Search:\\n\", buyer_preferences_text)\n"
   ]
  },
  {
   "cell_type": "code",
   "execution_count": 40,
   "id": "de478f06",
   "metadata": {},
   "outputs": [
    {
     "name": "stdout",
     "output_type": "stream",
     "text": [
      "Listing 1:\n",
      "page_content=\"neighborhood: Westwood Village\\nprice: $750,000\\nbedrooms: 3\\nbathrooms: 2\\nhouse_size: 1,800 square feet\\ndescription: Welcome to this charming 3 bedroom, 2 bathroom home in the desirable Westwood Village neighborhood. This beautifully maintained property features a spacious living room with a cozy fireplace, a bright and airy kitchen with granite countertops and stainless steel appliances, and a dining area perfect for entertaining. The master bedroom boasts an en-suite bathroom and walk-in closet. Outside, you'll find a well-manicured backyard with a patio area for outdoor dining and a detached garage for parking or storage. Don't miss the opportunity to own this lovely home in a prime location.\\nneighborhood_description: Westwood Village is known for its tree-lined streets, friendly community atmosphere, and convenient location near shopping, dining, and entertainment options. Residents enjoy easy access to parks, schools, and major freeways for commuting. With a mix of historic homes and modern amenities, Westwood Village offers the perfect blend of suburban charm and urban convenience. Don't miss your chance to become a part of this vibrant neighborhood.\"\n",
      "\n",
      "Listing 2:\n",
      "page_content=\"neighborhood: Parkside Heights\\nprice: $450,000\\nbedrooms: 3\\nbathrooms: 2\\nhouse_size: 2,000 sq. ft.\\ndescription: Welcome to this charming 3 bedroom, 2.5 bathroom home in the sought-after Parkside Heights neighborhood. This well-maintained property features a spacious living room with a cozy fireplace, a bright and airy kitchen with stainless steel appliances, and a separate dining area perfect for entertaining guests. The master bedroom boasts a walk-in closet and en-suite bathroom with a luxurious soaking tub. The backyard offers a peaceful retreat with a patio area and lush greenery, ideal for enjoying the beautiful California weather. With its convenient location near parks, shopping centers, and top-rated schools, this home is perfect for families or anyone looking for a quiet and friendly community to call home.\\nneighborhood_description: Parkside Heights is a peaceful and family-friendly neighborhood known for its tree-lined streets, well-maintained parks, and close-knit community feel. Residents enjoy easy access to hiking trails, local shops and restaurants, and excellent schools, making it a highly desirable place to live. With its convenient location just a short drive from downtown and major highways, Parkside Heights offers the perfect balance of suburban tranquility and urban convenience. Don't miss out on the opportunity to own a home in this wonderful neighborhood!\"\n",
      "\n",
      "Listing 3:\n",
      "page_content='neighborhood: Park Slope is a highly sought-after neighborhood in Brooklyn known for its tree-lined streets, historic brownstones, and vibrant community. With a mix of trendy boutiques, top-rated restaurants, and beautiful parks, Park Slope offers a perfect blend of city living and suburban charm.\\nprice: $1,200,000\\nbedrooms: 3\\nbathrooms: 2\\nhouse_size: 1,800 sq ft\\ndescription: This stunning brownstone in Park Slope features three spacious bedrooms, two full bathrooms, a renovated kitchen with stainless steel appliances, and a cozy living room with a working fireplace. The home boasts original details such as hardwood floors, crown moldings, and high ceilings. The backyard is a private oasis with a deck perfect for entertaining. With plenty of natural light and ample storage space, this home is perfect for modern city living.\\nneighborhood_description: Park Slope is known for its excellent schools, family-friendly atmosphere, and easy access to transportation. Residents enjoy the proximity to Prospect Park, where they can take advantage of outdoor activities such as jogging, biking, and picnicking. The neighborhood is also home to a variety of cultural institutions, including the Brooklyn Museum and the Brooklyn Botanic Garden. With a strong sense of community and a bustling commercial corridor along 5th Avenue, Park Slope offers the perfect balance of urban amenities and small-town charm.'\n",
      "\n"
     ]
    }
   ],
   "source": [
    "from langchain.embeddings import OpenAIEmbeddings\n",
    "from langchain.vectorstores import Chroma\n",
    "\n",
    "# Set up the embeddings model\n",
    "embeddings = OpenAIEmbeddings()\n",
    "\n",
    "# Load the existing Chroma database\n",
    "chroma_db_path = \"./chroma_db\"\n",
    "vector_db = Chroma(collection_name=\"real_estate_listings\", embedding_function=embeddings, persist_directory=chroma_db_path)\n",
    "\n",
    "# Perform the semantic search directly with the preference text\n",
    "def search_listings_by_preferences(preference_text, top_k=5):\n",
    "    # Pass the preference text directly instead of an embedding\n",
    "    results = vector_db.similarity_search(preference_text, k=top_k)\n",
    "    return results\n",
    "\n",
    "# Retrieve top listings based on preferences\n",
    "top_k = 3  # Number of top listings to retrieve\n",
    "matching_listings = search_listings_by_preferences(buyer_preferences_text, top_k=top_k)\n",
    "\n",
    "# Display matching listings\n",
    "for i, listing in enumerate(matching_listings):\n",
    "    print(f\"Listing {i + 1}:\\n{listing}\\n\")\n"
   ]
  },
  {
   "cell_type": "code",
   "execution_count": null,
   "id": "143f685c",
   "metadata": {},
   "outputs": [],
   "source": []
  },
  {
   "cell_type": "markdown",
   "id": "10bbfc89",
   "metadata": {},
   "source": [
    "Section: Augmented Response Generation\n",
    "1.Logic for Searching and Augmenting Listing Descriptions:The project must demonstrate a logical flow where buyer preferences are used to search and then augment the description of real estate listings. The augmentation should personalize the listing without changing factual information.\n",
    "2.Use of LLM for Generating Personalized Descriptions: The submission must utilize an LLM to generate personalized descriptions for the real estate listings based on buyer preferences. The descriptions should be unique, appealing, and tailored to the preferences provided."
   ]
  },
  {
   "cell_type": "code",
   "execution_count": 47,
   "id": "a4b08e79",
   "metadata": {},
   "outputs": [
    {
     "name": "stdout",
     "output_type": "stream",
     "text": [
      "Listing 1 - Enhanced Description:\n",
      "Welcome to your dream home in the serene Westwood Village neighborhood! This 3 bedroom, 2 bathroom property offers everything you're looking for, including a cozy fireplace in the spacious living room, a bright kitchen with granite countertops and stainless steel appliances, and a dining area perfect for hosting gatherings. The master bedroom features an en-suite bathroom and walk-in closet for added convenience. Outside, the well-manicured backyard with a patio area is perfect for outdoor dining and relaxation. Plus, the detached garage provides ample parking or storage space.\n",
      "\n",
      "Westwood Village is a quiet, tree-lined community known for its friendly atmosphere and proximity to top-rated schools. With easy access to shopping, dining, parks, and major freeways, you'll enjoy the perfect blend of suburban charm and urban convenience in this vibrant neighborhood. Don't miss out on the opportunity to make this lovely home yours!\n",
      "\n",
      "Listing 2 - Enhanced Description:\n",
      "Welcome home to this charming 3 bedroom, 2.5 bathroom oasis in the peaceful Parkside Heights neighborhood. This well-maintained property offers a spacious living room with a cozy fireplace, a bright kitchen with stainless steel appliances, and a separate dining area perfect for hosting family and friends. The master bedroom features a walk-in closet and a luxurious soaking tub in the en-suite bathroom. Step outside to the backyard retreat with a patio and lush greenery, ideal for enjoying the beautiful California weather.\n",
      "\n",
      "Parkside Heights is known for its tree-lined streets, well-kept parks, and close-knit community feel. With convenient access to hiking trails, local shops, and top-rated schools, this neighborhood offers the perfect balance of suburban tranquility and urban convenience. Don't miss out on the opportunity to own a home in this highly desirable area that aligns perfectly with your preferences for a quiet neighborhood with access to good schools and convenient shopping options.\n",
      "\n",
      "Listing 3 - Enhanced Description:\n",
      "Welcome to your dream home in Park Slope, where tranquility meets city living! This stunning brownstone offers three spacious bedrooms, two full bathrooms, and a renovated kitchen with stainless steel appliances. The cozy living room with a working fireplace is perfect for relaxing, while the private backyard oasis with a deck is ideal for entertaining. With original details such as hardwood floors and high ceilings, this home exudes charm. \n",
      "\n",
      "Located in a quiet neighborhood known for its excellent schools and family-friendly atmosphere, Park Slope also boasts easy access to urban amenities like trendy boutiques and top-rated restaurants. Enjoy the convenience of shopping options along 5th Avenue and cultural institutions like the Brooklyn Museum just a short walk away. Embrace the suburban charm of tree-lined streets and historic brownstones while still being close to all the excitement the city has to offer.\n",
      "\n",
      "Don't miss out on the opportunity to call this beautiful home in Park Slope yours! Listed at $1,200,000, this property truly offers the perfect balance of suburban tranquility and access to urban amenities.\n",
      "\n"
     ]
    }
   ],
   "source": [
    "from langchain.llms import OpenAI\n",
    "from langchain.prompts import PromptTemplate\n",
    "\n",
    "# Set up the LLM\n",
    "llm = OpenAI(model_name=\"gpt-3.5-turbo\")\n",
    "\n",
    "# Function to personalize the listing description\n",
    "def personalize_listing_description(listing_content, buyer_preferences):\n",
    "    # Define the prompt template for LLM personalization\n",
    "    prompt_template = PromptTemplate(\n",
    "        input_variables=[\"listing_content\", \"preferences\"],\n",
    "        template=\"\"\"\n",
    "        You are a real estate agent helping a buyer find their dream home. Personalize the following property description\n",
    "        to highlight features that resonate with the buyer's preferences. Maintain factual accuracy and only emphasize aspects\n",
    "        that align with the buyer's preferences.\n",
    "\n",
    "        Property Description:\n",
    "        {listing_content}\n",
    "\n",
    "        Buyer Preferences:\n",
    "        {preferences}\n",
    "\n",
    "        Personalized Description:\n",
    "        \"\"\"\n",
    "    )\n",
    "\n",
    "    # Format the prompt with the listing content and buyer preferences\n",
    "    prompt = prompt_template.format(\n",
    "        listing_content=listing_content,\n",
    "        preferences=buyer_preferences\n",
    "    )\n",
    "\n",
    "    # Generate the personalized description\n",
    "    personalized_description = llm(prompt).strip()\n",
    "    return personalized_description\n",
    "\n",
    "# Example usage: Apply personalization to each retrieved listing\n",
    "personalized_listings = []\n",
    "for listing in matching_listings:\n",
    "    # Use the page_content of each listing as input for personalization\n",
    "    listing_content = listing.page_content  # Raw listing details\n",
    "    personalized_description = personalize_listing_description(listing_content, buyer_preferences_text)\n",
    "    \n",
    "    # Add the personalized description to the listing metadata\n",
    "    listing.metadata[\"personalized_description\"] = personalized_description\n",
    "    personalized_listings.append(listing)\n",
    "\n",
    "# Display the personalized descriptions\n",
    "for i, listing in enumerate(personalized_listings):\n",
    "    print(f\"Listing {i + 1} - Enhanced Description:\\n{listing.metadata['personalized_description']}\\n\")\n"
   ]
  },
  {
   "cell_type": "code",
   "execution_count": null,
   "id": "d528438a",
   "metadata": {},
   "outputs": [],
   "source": []
  }
 ],
 "metadata": {
  "kernelspec": {
   "display_name": "Python 3 (ipykernel)",
   "language": "python",
   "name": "python3"
  },
  "language_info": {
   "codemirror_mode": {
    "name": "ipython",
    "version": 3
   },
   "file_extension": ".py",
   "mimetype": "text/x-python",
   "name": "python",
   "nbconvert_exporter": "python",
   "pygments_lexer": "ipython3",
   "version": "3.10.11"
  }
 },
 "nbformat": 4,
 "nbformat_minor": 5
}
